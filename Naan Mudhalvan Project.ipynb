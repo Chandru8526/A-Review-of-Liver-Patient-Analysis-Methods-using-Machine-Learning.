#Importing the libraries

import pandas as pd
import numpy as np
import seaborn as sns
import matplotlip.pyplot as plt
from matplotlip import rcParams
from scipy import stats

#Read the Dataset

data=pd.read_csv("E:/Python/archive/indian_lliver_patient")
data.head()

#Handling missing values
data.info()
data.isnull().any()
data.isnull().sum()
data["Albumin_and_Globulin_Ratio"] = data.fillna(data["Albumin_and_Globulin_Ratio"].model()[0])
data.isnull().sum()

#Handling Categorical Values
from sklearn.preprocessing import LabelEncoder
lc = LabelEncoder()
data["gender"] = lc.fit_transform(data["gender"])

#Descriptive statistical
data.describe()

#Univariate analysis
sns.distplot(data["age"])
plt.title("Age Distribution Graph")
plt.show()

#Bivariate analysis
sns.countplot(data["outcome"],hue=data["gender"])\

#Multivariate analysis
plt.figure(figsize=(10,7))
sns.heatmap(df.corr(),annot=True)

#Scaling the Data
from sklearn.preprocessing import scale
X_scaled=pd.DataFrame (scale(X), columns=X.columns)

X_scaled.head()

#Splitting data into train and test
X=data.iloc[:,:-1]
Y=data.outcome

from sklearn.model_selection import train_test_split
X_train,Xtest,Y_train,Y_test=train_test_split(X_scaled,y, test_size=0.2,random_state=42)

#Handling Imbalance Data
#pip install imblearn
from imblearn.over_sampling import SMOTE
smote = SMOTE()

Y_train.value_counts()

X_train_smote,Y_train_smote = smote.fit_resample(X_train,Y_train)
Y_train smote.value_counts

#Model Building
#Random Forest model
from sklearn.ensemble import RandomForestClassifier
model1=RandomForestClassifier()
model1.fit(X_train_smoke,Y_train_smote)
Y_predict=model1.predict(X_test)
rfc1=accuracy_score(Y_test,Y_predict)
rfc1
pd.crosstab(Y_test,Y_predict)
print(classification_report(Y_test,Y_predict))

#Decision tree model
from sklearn.tree import DecisionTreeClassifier
model4.=DecisionTreeClassifier()
model4.fit(X_train_smote,Y_train_smote)
Y_predict=model4.predict(X_test)
dtc1=accuracy_score(Y_test,Y_predict)
dtc1
pd.crosstab(Y_test,Y_predict)
print(classification_report(Y_test, Y_predict))

#KNN model
from sklearn.neighbors import KNeighborClassifier
model2=KneighborsClassifier()
model2.fit(X_train_smote,Y_tain_smote)
Y_predict= model.predict(X_test)
knn1=(accuracy_score(Y_tets,Y_predict)
knn1
pd.crosstab(Y_test,Y_predict)
print(classification_report(Y_test,Y_predict))

#Logistic Regression model
from sklearn.linear_model import LogisticRegression
model5=LogisticRegression()
model5.fit(X_train_smote)
Y_predict=model5.predict(X_test)
logi1=accuracy_score(Y_test,Y_predict)
logi1
pd.crosstab(Y_test,Y_predict)
print(classification_report(Y_test, Y_predict))

#ANN model
import tensorflow.keras
from tensorflow.keras.models import Sequential
from tensorflow.keras.layers import Dense

#Initialising the ANN
classifier = Sequential()

# Adding the input layer and the first hidden layer
classifier.add(Dense(units=100, activation="relu",input_dim=10))

#Adding the second hidden layer
classifier.add(Dense(units=50, activation="relu"))

#Adding the output layer
classifier.add(Dense(units=1,activation="sigmoid"))

#Compiling the ANN
classifier.compile(optimizer="adam", loss="binary_crossentropy",metrics=["accuracy"])

#Fitting the ANN to the Training set
model_history=classifier.fit(X_train, Y_train,batch_size=100,validation_split=0.2,epochs=100)

#Testing the model
model4.predict([[50,1,1.2,0.8,150,70,80,7.2,3.4,0.8]])
model4.predict([[50,1,1.2,0.8,150,70,80,7.2,3.4,0.8]])

#In ANN we first have to save the model to the test the inputs
classifier.save("liver.h5")

Y_pred = classifier.predict(X_test)

Y_pred

Y_pred = (Y_pred > 0.5)
Y_pred

def predict_exit(sample_value):
  # Convert list to numpy array
   sample_value = np.array(sample_value)
  # Reshape because sample_value contains only
   sample_value = sample_value.reshape(1,-1)
  #Feature Scaling
   sample_value = scale(sample_value) 
   return classifier.predict(sample_value)

#Age,Gender,Total_Bilrubin,Direct_Bilrubing*Alkaling_Phosphotase
sample_value = [[50,1,1.2,0.8,150,70,80,7.2,3.4,0.8]]
if predict_exit(sample_value)>0.5:
   print("Prediction:Liver Patient")
else:
   print("Prediction: Healthy ")

#Performance Testing & Hyperparameter Tuning
#Compare the model
acc_smote=[["KNN Classifier",knn1],["RandomForestClassifier",rfc1],
           ["DicisionTreeClassifier",dtc1],["LogisticRegression",logi1]]
Liverpatient_pred=pd.DataFrame(acc_smote,columns=["classification models","accuracy_score"])
Liverpatient_pred

plt.figure(figsize=(7,5))
plt.xticks(rotation=90)
plt.title("Classification models & accuracy scores after SMOTE",fontsize=18)
sns.barplot(x="classification models",Y="accuracy_score", data= Liverpatient_pred,palette = "Set2")

from sklearn.ensemble import ExtraTreesClassifier
model=ExtraTreesClassifier()
model.fit(X,Y)

model.feature_importances_

dd=pd.DataFrame(model.feature_importances_,index=X.columns).sort_values(0,ascending=False)
dd

#Identifying Important Features
dd.plot(kind="barh",figsize=(7,6))
plt.title("FEATURE IMPORTANCE",fontsize=14)

#Model Deployment
#Save the best model
import joblib
joblib.dump(model1,"ETC.pk")

#Integrate with Web Framework
#Build Python code:
from flask import Flask,render_template,request
import numpy as np
import pickle

app=Flask(__name__)
@app.route("/")
def home():
   return render_template("home.html")
@app.route("/predict")
def index():
   return render_template("index,html")


#Retrieves the value from UI:
@app.route("/data_predict",methods=["POST"])
def predict():
  age = request.from["age"]
  gender = request.from["gender"]
  tb = request.from["tb"]
  db = request.from["db"]
  ap = request.from["ap"]
  aa1 = request.from["aa1"]
  aa2 = request.from["aa2"]
  tp = request.from["tp"]
  a = request.from["a"]
  agr = request.from["agr"]

 data = [[float(age), float(gender), float(tb), float(db), float(aa1), float(aa2), float(tp),

 model = pickle.load(open("liver_anlysis.pk1","rb"))

 prediction=model.predict(data)[0]
 if (prediction == 1):
     return render_template("noChance.html",prediction="You have a liver desease problem,You must and:)
 else:
     return render_template("chance.html",prediction="You dont have a liver desease problem")

if __ name__=="__main__":
    app.run()










